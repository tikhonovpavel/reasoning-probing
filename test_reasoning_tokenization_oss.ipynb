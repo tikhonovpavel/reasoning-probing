{
 "cells": [
  {
   "cell_type": "code",
   "execution_count": 1,
   "id": "23841eed",
   "metadata": {},
   "outputs": [],
   "source": [
    "from transformers import AutoTokenizer, AutoModelForCausalLM\n",
    "import torch\n",
    "\n"
   ]
  },
  {
   "cell_type": "code",
   "execution_count": null,
   "id": "b444c79c",
   "metadata": {},
   "outputs": [
    {
     "name": "stderr",
     "output_type": "stream",
     "text": [
      "MXFP4 quantization requires triton >= 3.4.0 and kernels installed, we will default to dequantizing the model to bf16\n"
     ]
    },
    {
     "data": {
      "application/vnd.jupyter.widget-view+json": {
       "model_id": "a6c720f9e7a64862bf3eeb1f149dcf57",
       "version_major": 2,
       "version_minor": 0
      },
      "text/plain": [
       "Loading checkpoint shards:   0%|          | 0/3 [00:00<?, ?it/s]"
      ]
     },
     "metadata": {},
     "output_type": "display_data"
    }
   ],
   "source": [
    "tokenizer = AutoTokenizer.from_pretrained(\"openai/gpt-oss-20b\")\n",
    "model = AutoModelForCausalLM.from_pretrained(\n",
    "    \"openai/gpt-oss-20b\",\n",
    "    dtype=torch.bfloat16,\n",
    "    device_map='auto'\n",
    "\n",
    ")\n"
   ]
  },
  {
   "cell_type": "code",
   "execution_count": 3,
   "id": "fd36459b",
   "metadata": {},
   "outputs": [
    {
     "name": "stdout",
     "output_type": "stream",
     "text": [
      "<|start|>system<|message|>You are ChatGPT, a large language model trained by OpenAI.\n",
      "Knowledge cutoff: 2024-06\n",
      "Current date: 2025-09-21\n",
      "\n",
      "Reasoning: medium\n",
      "\n",
      "# Valid channels: analysis, commentary, final. Channel must be included for every message.<|end|><|start|>developer<|message|># Instructions\n",
      "\n",
      "You are a helpful assistant.\n",
      "\n",
      "<|end|><|start|>user<|message|>23+17<|end|>\n",
      "==================================================\n",
      "<|start|>system<|message|>You are ChatGPT, a large language model trained by OpenAI.\n",
      "Knowledge cutoff: 2024-06\n",
      "Current date: 2025-09-21\n",
      "\n",
      "Reasoning: medium\n",
      "\n",
      "# Valid channels: analysis, commentary, final. Channel must be included for every message.<|end|><|start|>developer<|message|># Instructions\n",
      "\n",
      "You are a helpful assistant.\n",
      "\n",
      "<|end|><|start|>user<|message|>23+17<|end|><|start|>analysis<|message|>We just need to compute 23+17 = 40. Provide answer.<|end|><|start|>final<|message|>23 + 17 = 40<|return|>\n"
     ]
    }
   ],
   "source": [
    "prompt = tokenizer.apply_chat_template(\n",
    "    [\n",
    "        {\"role\": \"system\", \"content\": \"You are a helpful assistant.\"},\n",
    "        {\"role\": \"user\", \"content\": \"23+17\"},\n",
    "    ],\n",
    "\n",
    "    tokenize=False,\n",
    "    add_generation_prompt=False\n",
    ")\n",
    "\n",
    "print(prompt)\n",
    "print('='*50)\n",
    "\n",
    "output = model.generate(\n",
    "    tokenizer(prompt, return_tensors='pt').input_ids.to(model.device),\n",
    "    max_new_tokens=2048\n",
    ")\n",
    "\n",
    "print(tokenizer.decode(output[0], skip_special_tokens=False))\n"
   ]
  },
  {
   "cell_type": "code",
   "execution_count": null,
   "id": "b342fed1",
   "metadata": {},
   "outputs": [],
   "source": []
  },
  {
   "cell_type": "code",
   "execution_count": null,
   "id": "62001a06",
   "metadata": {},
   "outputs": [],
   "source": []
  },
  {
   "cell_type": "code",
   "execution_count": 2,
   "id": "892caa84",
   "metadata": {},
   "outputs": [
    {
     "data": {
      "application/vnd.jupyter.widget-view+json": {
       "model_id": "d7df46b431df4dcc8a17d178f9599b9d",
       "version_major": 2,
       "version_minor": 0
      },
      "text/plain": [
       "Loading checkpoint shards:   0%|          | 0/5 [00:00<?, ?it/s]"
      ]
     },
     "metadata": {},
     "output_type": "display_data"
    }
   ],
   "source": [
    "\n",
    "tokenizer = AutoTokenizer.from_pretrained(\"Qwen/Qwen3-32B\")\n",
    "\n",
    "model = AutoModelForCausalLM.from_pretrained(\n",
    "    \"Qwen/Qwen3-32B\",\n",
    "    dtype=torch.bfloat16,\n",
    "    device_map='auto'\n",
    ")"
   ]
  },
  {
   "cell_type": "code",
   "execution_count": 4,
   "id": "ebdcbb01",
   "metadata": {},
   "outputs": [
    {
     "name": "stdout",
     "output_type": "stream",
     "text": [
      "<|im_start|>system\n",
      "You are a helpful assistant.<|im_end|>\n",
      "<|im_start|>user\n",
      "23+17<|im_end|>\n",
      "\n",
      "==================================================\n",
      "<|im_start|>system\n",
      "You are a helpful assistant.<|im_end|>\n",
      "<|im_start|>user\n",
      "23+17<|im_end|>\n",
      "<|im_start|> **Okay, the user asked \"23+17\". Let me figure out how to respond.**\n",
      "\n",
      "First, I need to calculate the sum of 23 and 17. Let me add them step by step. 20 plus 10 is 30, and 3 plus 7 is 10. So 30 plus 10 equals 40. Wait, that seems right. Let me double-check by adding the numbers directly: 23 + 17. The units place is 3 + 7 = 10, so I carry over 1. Then the tens place is 2 + 1 + 1 = 4. So yes, the total is 40. \n",
      "\n",
      "Now, the user might just need the answer, but maybe they want an explanation. Since they used a math problem, they could be testing if I can perform basic arithmetic. Alternatively, they might be practicing math and need confirmation. I should present the answer clearly and confirm the steps to ensure they understand. I'll state the result and briefly explain the process to be helpful.\n",
      "</think>\n",
      "\n",
      "23 + 17 = 40. \n",
      "\n",
      "**Step-by-step explanation:**  \n",
      "- Add the units place: 3 + 7 = 10 (write down 0, carry over 1).  \n",
      "- Add the tens place: 2 + 1 + 1 (carried over) = 4.  \n",
      "- Final result: **40**.<|im_end|>\n"
     ]
    }
   ],
   "source": [
    "prompt = tokenizer.apply_chat_template(\n",
    "    [\n",
    "        {\"role\": \"system\", \"content\": \"You are a helpful assistant.\"},\n",
    "        {\"role\": \"user\", \"content\": \"23+17\"},\n",
    "    ],\n",
    "\n",
    "    tokenize=False,\n",
    "    add_generation_prompt=False\n",
    ")\n",
    "print(prompt)\n",
    "print('='*50)\n",
    "\n",
    "output = model.generate(\n",
    "    tokenizer(prompt, return_tensors='pt').input_ids.to(model.device),\n",
    "    max_new_tokens=2048\n",
    ")\n",
    "\n",
    "print(tokenizer.decode(output[0], skip_special_tokens=False))\n"
   ]
  }
 ],
 "metadata": {
  "kernelspec": {
   "display_name": "condaenv",
   "language": "python",
   "name": "python3"
  },
  "language_info": {
   "codemirror_mode": {
    "name": "ipython",
    "version": 3
   },
   "file_extension": ".py",
   "mimetype": "text/x-python",
   "name": "python",
   "nbconvert_exporter": "python",
   "pygments_lexer": "ipython3",
   "version": "3.10.16"
  }
 },
 "nbformat": 4,
 "nbformat_minor": 5
}
