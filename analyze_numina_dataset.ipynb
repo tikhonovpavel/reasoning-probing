{
 "cells": [
  {
   "cell_type": "code",
   "execution_count": 2,
   "id": "8f45f759",
   "metadata": {},
   "outputs": [],
   "source": [
    "import fire\n",
    "import datasets\n",
    "import numpy as np\n",
    "import matplotlib.pyplot as plt\n",
    "from tqdm.auto import tqdm\n",
    "\n",
    "import os\n",
    "\n",
    "from numina_math_dataset import extract_final_number\n",
    "\n",
    "# Increase matplotlib font size for readability\n",
    "plt.rcParams.update({'font.size': 14})\n",
    "\n",
    "\n",
    "def generate_text_histogram(data, bins=50, width=80):\n",
    "    \"\"\"Generates a string containing a text-based histogram.\"\"\"\n",
    "    if not data:\n",
    "        return \"No data to display.\"\n",
    "\n",
    "    counts, bin_edges = np.histogram(data, bins=bins)\n",
    "    max_count = counts.max()\n",
    "    \n",
    "    hist_str = \"\"\n",
    "    for i in range(len(counts)):\n",
    "        bar_len = int((counts[i] / max_count) * (width - 25)) if max_count > 0 else 0\n",
    "        bar = '█' * bar_len\n",
    "        range_str = f\"{bin_edges[i]:>8.2f} - {bin_edges[i+1]:<8.2f}\"\n",
    "        hist_str += f\"{range_str} | {bar} ({counts[i]})\\n\"\n",
    "        \n",
    "    return hist_str\n"
   ]
  },
  {
   "cell_type": "code",
   "execution_count": 3,
   "id": "8a7bfdac",
   "metadata": {},
   "outputs": [
    {
     "name": "stdout",
     "output_type": "stream",
     "text": [
      "Loading NuminaMath dataset...\n"
     ]
    },
    {
     "data": {
      "application/vnd.jupyter.widget-view+json": {
       "model_id": "3a563ffefdfd4d11964b31e248745507",
       "version_major": 2,
       "version_minor": 0
      },
      "text/plain": [
       "Resolving data files:   0%|          | 0/88 [00:00<?, ?it/s]"
      ]
     },
     "metadata": {},
     "output_type": "display_data"
    },
    {
     "data": {
      "application/vnd.jupyter.widget-view+json": {
       "model_id": "b0f6eceadb884597a83e3a7fcce996db",
       "version_major": 2,
       "version_minor": 0
      },
      "text/plain": [
       "Resolving data files:   0%|          | 0/88 [00:00<?, ?it/s]"
      ]
     },
     "metadata": {},
     "output_type": "display_data"
    },
    {
     "data": {
      "application/vnd.jupyter.widget-view+json": {
       "model_id": "7b33079a5cf44e598c6557a886f514f5",
       "version_major": 2,
       "version_minor": 0
      },
      "text/plain": [
       "Loading dataset shards:   0%|          | 0/87 [00:00<?, ?it/s]"
      ]
     },
     "metadata": {},
     "output_type": "display_data"
    },
    {
     "name": "stdout",
     "output_type": "stream",
     "text": [
      "Dataset loaded with 5,138,102 examples.\n",
      "Extracting all numerical answers using 32 processes...\n"
     ]
    },
    {
     "data": {
      "application/vnd.jupyter.widget-view+json": {
       "model_id": "ef50314f33ba413cb291193bbc71ff57",
       "version_major": 2,
       "version_minor": 0
      },
      "text/plain": [
       "Extracting numbers (num_proc=32):   0%|          | 0/5138102 [00:00<?, ? examples/s]"
      ]
     },
     "metadata": {},
     "output_type": "display_data"
    }
   ],
   "source": [
    "cache_dir = \"/mnt/nfs_share/tikhonov/hf_cache\"\n",
    "num_proc = 32\n",
    "\n",
    "# 1. Load dataset\n",
    "print(\"Loading NuminaMath dataset...\")\n",
    "dataset = datasets.load_dataset(\n",
    "    'PrimeIntellect/NuminaMath-QwQ-CoT-5M',\n",
    "    cache_dir=cache_dir,\n",
    "    split='train'\n",
    ")\n",
    "\n",
    "print(f\"Dataset loaded with {len(dataset):,} examples.\")\n",
    "\n",
    "# 2. Filter for numerical answers using datasets.map for parallelism\n",
    "print(f\"Extracting all numerical answers using {num_proc} processes...\")\n",
    "\n",
    "# Use .map to create a new column with the extracted number\n",
    "mapped_dataset = dataset.map(\n",
    "    lambda example: {'number': extract_final_number(example['ground_truth'])},\n",
    "    num_proc=num_proc,\n",
    "    desc=\"Extracting numbers\"\n",
    ")"
   ]
  },
  {
   "cell_type": "code",
   "execution_count": null,
   "metadata": {},
   "outputs": [
    {
     "name": "stdout",
     "output_type": "stream",
     "text": [
      "Extracting column and filtering in memory (this should be fast)...\n"
     ]
    },
    {
     "data": {
      "application/vnd.jupyter.widget-view+json": {
       "model_id": "f490de75897846b183c574640d00beb0",
       "version_major": 2,
       "version_minor": 0
      },
      "text/plain": [
       "Filtering Nones in-memory:   0%|          | 0/5138102 [00:00<?, ?it/s]"
      ]
     },
     "metadata": {},
     "output_type": "display_data"
    },
    {
     "name": "stdout",
     "output_type": "stream",
     "text": [
      "Calculating 1.0% and 95.0% percentiles...\n",
      "Percentile bounds: lower=-20.00, upper=4200.00\n",
      "Filtering out outliers...\n",
      "Data after outlier removal: 1,787,144 examples remaining.\n",
      "\n",
      "--- Statistics of Filtered Data ---\n",
      "Count:    1,787,144\n",
      "Mean:     183.73\n",
      "Std Dev:  517.69\n",
      "Min:      -20.00\n",
      "25%:      4.00\n",
      "Median:   17.00\n",
      "75%:      82.00\n",
      "Max:      4200.00\n",
      "-------------------------------------\n",
      "\n",
      "Generating graphical histogram...\n",
      "\n",
      "--- Text Histogram ---\n",
      "  -20.00 - 120.67   | ███████████████████████████████████████████████████████████████████████████ (1427814)\n",
      "  120.67 - 261.33   | ██████ (120555)\n",
      "  261.33 - 402.00   | ██ (51107)\n",
      "  402.00 - 542.67   | █ (33374)\n",
      "  542.67 - 683.33   | █ (20952)\n",
      "  683.33 - 824.00   |  (18015)\n",
      "  824.00 - 964.67   |  (13468)\n",
      "  964.67 - 1105.33  |  (18220)\n",
      " 1105.33 - 1246.00  |  (7747)\n",
      " 1246.00 - 1386.67  |  (7502)\n",
      " 1386.67 - 1527.33  |  (5830)\n",
      " 1527.33 - 1668.00  |  (4152)\n",
      " 1668.00 - 1808.67  |  (5217)\n",
      " 1808.67 - 1949.33  |  (2997)\n",
      " 1949.33 - 2090.00  |  (16248)\n",
      " 2090.00 - 2230.67  |  (3330)\n",
      " 2230.67 - 2371.33  |  (2246)\n",
      " 2371.33 - 2512.00  |  (3219)\n",
      " 2512.00 - 2652.67  |  (2958)\n",
      " 2652.67 - 2793.33  |  (1605)\n",
      " 2793.33 - 2934.00  |  (2206)\n",
      " 2934.00 - 3074.67  |  (3104)\n",
      " 3074.67 - 3215.33  |  (1932)\n",
      " 3215.33 - 3356.00  |  (1437)\n",
      " 3356.00 - 3496.67  |  (1762)\n",
      " 3496.67 - 3637.33  |  (1959)\n",
      " 3637.33 - 3778.00  |  (1290)\n",
      " 3778.00 - 3918.67  |  (960)\n",
      " 3918.67 - 4059.33  |  (3960)\n",
      " 4059.33 - 4200.00  |  (1978)\n",
      "\n"
     ]
    }
   ],
   "source": [
    "\n",
    "print(\"Extracting column and filtering in memory (this should be fast)...\")\n",
    "all_extracted_values = mapped_dataset['number']\n",
    "all_numbers = [num for num in tqdm(all_extracted_values, desc=\"Filtering Nones in-memory\") if num is not None]\n",
    "\n",
    "\n",
    "# 3. Calculate percentile bounds\n",
    "lower_perc = 1.0\n",
    "upper_perc = 95.0\n",
    "print(f\"Calculating {lower_perc}% and {upper_perc}% percentiles...\")\n",
    "lower_bound = np.percentile(all_numbers, lower_perc)\n",
    "upper_bound = np.percentile(all_numbers, upper_perc)\n",
    "print(f\"Percentile bounds: lower={lower_bound:.2f}, upper={upper_bound:.2f}\")\n",
    "\n",
    "# 4. Filter out outliers\n",
    "print(\"Filtering out outliers...\")\n",
    "filtered_numbers = [num for num in all_numbers if lower_bound <= num <= upper_bound]\n",
    "print(f\"Data after outlier removal: {len(filtered_numbers):,} examples remaining.\")\n",
    "\n",
    "# 5. Print statistics\n",
    "print(\"\\n--- Statistics of Filtered Data ---\")\n",
    "print(f\"Count:    {len(filtered_numbers):,}\")\n",
    "print(f\"Mean:     {np.mean(filtered_numbers):.2f}\")\n",
    "print(f\"Std Dev:  {np.std(filtered_numbers):.2f}\")\n",
    "print(f\"Min:      {np.min(filtered_numbers):.2f}\")\n",
    "print(f\"25%:      {np.percentile(filtered_numbers, 25):.2f}\")\n",
    "print(f\"Median:   {np.median(filtered_numbers):.2f}\")\n",
    "print(f\"75%:      {np.percentile(filtered_numbers, 75):.2f}\")\n",
    "print(f\"Max:      {np.max(filtered_numbers):.2f}\")\n",
    "print(\"-------------------------------------\\n\")\n",
    "\n",
    "# 6. Generate and save graphical histogram\n",
    "print(\"Generating graphical histogram...\")\n",
    "plt.figure(figsize=(14, 7))\n",
    "plt.hist(filtered_numbers, bins=100, color='skyblue', edgecolor='black')\n",
    "plt.title(f'Distribution of NuminaMath Answers\\n(After filtering between {lower_perc}% and {upper_perc}% percentiles)')\n",
    "plt.xlabel('Numerical Answer')\n",
    "plt.ylabel('Frequency')\n",
    "plt.grid(axis='y', alpha=0.75)\n",
    "plt.show()\n",
    "plt.close()\n",
    "\n",
    "# 7. Generate and print text histogram\n",
    "print(\"\\n--- Text Histogram ---\")\n",
    "text_hist = generate_text_histogram(filtered_numbers, bins=30, width=100)\n",
    "print(text_hist)\n"
   ]
  },
  {
   "cell_type": "code",
   "execution_count": 18,
   "id": "a0fa72b0",
   "metadata": {},
   "outputs": [
    {
     "data": {
      "image/png": "[encoded data removed]",
      "text/plain": [
       "<Figure size 1400x700 with 1 Axes>"
      ]
     },
     "metadata": {},
     "output_type": "display_data"
    }
   ],
   "source": [
    "plt.figure(figsize=(14, 7))\n",
    "plt.hist(np.log(np.array(filtered_numbers) + 21), bins=100, color='skyblue', edgecolor='black')\n",
    "plt.title(f'Distribution of NuminaMath Answers\\n(After filtering between {lower_perc}% and {upper_perc}% percentiles)')\n",
    "plt.xlabel('Numerical Answer')\n",
    "plt.ylabel('Frequency')\n",
    "plt.grid(axis='y', alpha=0.75)\n",
    "plt.show()\n",
    "plt.close()"
   ]
  },
  {
   "cell_type": "code",
   "execution_count": 8,
   "id": "41d58980",
   "metadata": {},
   "outputs": [
    {
     "name": "stderr",
     "output_type": "stream",
     "text": [
      "/tmp/ipykernel_3424686/4054153064.py:1: RuntimeWarning: divide by zero encountered in log\n",
      "  np.log(filtered_numbers)\n",
      "/tmp/ipykernel_3424686/4054153064.py:1: RuntimeWarning: invalid value encountered in log\n",
      "  np.log(filtered_numbers)\n"
     ]
    },
    {
     "data": {
      "text/plain": [
       "array([1.38629436, 2.53844742, 5.420535  , ..., 2.89037176, 1.54700244,\n",
       "       3.17805383], shape=(1787144,))"
      ]
     },
     "execution_count": 8,
     "metadata": {},
     "output_type": "execute_result"
    }
   ],
   "source": [
    "np.log(filtered_numbers)"
   ]
  },
  {
   "cell_type": "code",
   "execution_count": 9,
   "id": "42fb3da9",
   "metadata": {},
   "outputs": [
    {
     "name": "stdout",
     "output_type": "stream",
     "text": [
      "Min value: nan, Max value: nan\n"
     ]
    },
    {
     "name": "stderr",
     "output_type": "stream",
     "text": [
      "/tmp/ipykernel_3424686/2412432523.py:1: RuntimeWarning: divide by zero encountered in log\n",
      "  min_value = np.min(np.log(filtered_numbers))\n",
      "/tmp/ipykernel_3424686/2412432523.py:1: RuntimeWarning: invalid value encountered in log\n",
      "  min_value = np.min(np.log(filtered_numbers))\n",
      "/tmp/ipykernel_3424686/2412432523.py:2: RuntimeWarning: divide by zero encountered in log\n",
      "  max_value = np.max(np.log(filtered_numbers))\n",
      "/tmp/ipykernel_3424686/2412432523.py:2: RuntimeWarning: invalid value encountered in log\n",
      "  max_value = np.max(np.log(filtered_numbers))\n"
     ]
    }
   ],
   "source": [
    "min_value = np.min(np.log(filtered_numbers))\n",
    "max_value = np.max(np.log(filtered_numbers))\n",
    "print(f\"Min value: {min_value}, Max value: {max_value}\")\n"
   ]
  },
  {
   "cell_type": "code",
   "execution_count": 13,
   "metadata": {},
   "outputs": [
    {
     "data": {
      "text/plain": [
       "np.float64(1.6094379124341003)"
      ]
     },
     "execution_count": 13,
     "metadata": {},
     "output_type": "execute_result"
    }
   ],
   "source": [
    "np.log(5)"
   ]
  }
 ],
 "metadata": {
  "kernelspec": {
   "display_name": "vae_reasoning",
   "language": "python",
   "name": "python3"
  },
  "language_info": {
   "codemirror_mode": {
    "name": "ipython",
    "version": 3
   },
   "file_extension": ".py",
   "mimetype": "text/x-python",
   "name": "python",
   "nbconvert_exporter": "python",
   "pygments_lexer": "ipython3",
   "version": "3.11.13"
  }
 },
 "nbformat": 4,
 "nbformat_minor": 5
}
