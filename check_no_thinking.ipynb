{
 "cells": [
  {
   "cell_type": "code",
   "execution_count": null,
   "id": "4c6437c2",
   "metadata": {},
   "outputs": [
    {
     "data": {
      "application/vnd.jupyter.widget-view+json": {
       "model_id": "aae95340ac80491f9ac906384f5468da",
       "version_major": 2,
       "version_minor": 0
      },
      "text/plain": [
       "Loading checkpoint shards:   0%|          | 0/17 [00:00<?, ?it/s]"
      ]
     },
     "metadata": {},
     "output_type": "display_data"
    }
   ],
   "source": [
    "from transformers import AutoTokenizer, AutoModelForCausalLM, TextStreamer\n",
    "import torch\n",
    "from utils import WordHighlightingStreamerFactory\n",
    "import logging\n",
    "import sys\n",
    "\n",
    "device = 'cuda'\n",
    "\n",
    "logging.basicConfig(\n",
    "    level=logging.INFO,\n",
    "    format=\"%(asctime)s - %(levelname)s - %(name)s - %(message)s\",\n",
    "    stream=sys.stdout,\n",
    ")\n",
    "\n",
    "model_name = \"Qwen/Qwen3-32B\"\n",
    "tokenizer = AutoTokenizer.from_pretrained(model_name)\n",
    "model = AutoModelForCausalLM.from_pretrained(model_name, torch_dtype=torch.bfloat16).to(device)\n",
    "streamer_factory = WordHighlightingStreamerFactory(tokenizer, 'wait', skip_prompt=False)\n"
   ]
  },
  {
   "cell_type": "code",
   "execution_count": 5,
   "id": "d2294083",
   "metadata": {},
   "outputs": [
    {
     "name": "stderr",
     "output_type": "stream",
     "text": [
      "Using the latest cached version of the dataset since Idavidrein/gpqa couldn't be found on the Hugging Face Hub\n"
     ]
    },
    {
     "name": "stdout",
     "output_type": "stream",
     "text": [
      "2025-08-01 12:50:24,716 - WARNING - datasets.load - Using the latest cached version of the dataset since Idavidrein/gpqa couldn't be found on the Hugging Face Hub\n"
     ]
    },
    {
     "name": "stderr",
     "output_type": "stream",
     "text": [
      "Found the latest cached dataset configuration 'gpqa_diamond' at /home/tikhonov/.cache/huggingface/datasets/Idavidrein___gpqa/gpqa_diamond/0.0.0/90b8e5be2b1d3d2dbfe016cdab47981150600c4a (last modified on Tue Jul 29 18:26:56 2025).\n"
     ]
    },
    {
     "name": "stdout",
     "output_type": "stream",
     "text": [
      "2025-08-01 12:50:24,718 - WARNING - datasets.packaged_modules.cache.cache - Found the latest cached dataset configuration 'gpqa_diamond' at /home/tikhonov/.cache/huggingface/datasets/Idavidrein___gpqa/gpqa_diamond/0.0.0/90b8e5be2b1d3d2dbfe016cdab47981150600c4a (last modified on Tue Jul 29 18:26:56 2025).\n",
      "198\n",
      "{'answer_index': 2,\n",
      " 'answer_letter': 'C',\n",
      " 'answer_text': '10^-4 eV',\n",
      " 'choices': ['10^-9 eV', '10^-8 eV', '10^-4 eV', '10^-11 eV'],\n",
      " 'prompt': 'Two quantum states with energies E1 and E2 have a lifetime of '\n",
      "           '10^-9 sec and 10^-8 sec, respectively. We want to clearly '\n",
      "           'distinguish these two energy levels. Which one of the following '\n",
      "           'options could be their energy difference so that they can be '\n",
      "           'clearly resolved?\\n'\n",
      "           '\\n'\n",
      "           '\\n'\n",
      "           'A) 10^-9 eV\\n'\n",
      "           'B) 10^-8 eV\\n'\n",
      "           'C) 10^-4 eV\\n'\n",
      "           'D) 10^-11 eV',\n",
      " 'question': 'Two quantum states with energies E1 and E2 have a lifetime of '\n",
      "             '10^-9 sec and 10^-8 sec, respectively. We want to clearly '\n",
      "             'distinguish these two energy levels. Which one of the following '\n",
      "             'options could be their energy difference so that they can be '\n",
      "             'clearly resolved?\\n'}\n"
     ]
    }
   ],
   "source": [
    "from gpqa_dataset import GPQADataset\n",
    "from pprint import pprint\n",
    "\n",
    "dataset = GPQADataset(config_name=\"gpqa_diamond\", split=\"train\")\n",
    "\n",
    "\n",
    "\n",
    "print(len(dataset))\n",
    "pprint(dataset[0])"
   ]
  },
  {
   "cell_type": "code",
   "execution_count": null,
   "id": "503b233d",
   "metadata": {},
   "outputs": [],
   "source": [
    "import sqlite3\n",
    "\n",
    "conn = sqlite3.connect(\"reasoning_traces.sqlite\")\n",
    "cursor = conn.cursor()\n",
    "\n",
    "\n",
    "def get_reasoning_trace(question):\n",
    "    sql_query = f\"\"\"\n",
    "        SELECT question_id, full_prompt_text, correct_answer_letter, extracted_answer\n",
    "        FROM reasoning_traces_qpqa\n",
    "        WHERE question_text LIKE ? AND model_path = ?\n",
    "        LIMIT 1\n",
    "    \"\"\"\n",
    "    \n",
    "    search_pattern = f'%{question}%'\n",
    "    model_name = 'Qwen/Qwen3-32B'\n",
    "\n",
    "    row = cursor.execute(sql_query, (search_pattern, model_name)).fetchone()\n",
    "\n",
    "    return row[1].split('<think>')[1].split('</think>')[0].strip()\n"
   ]
  },
  {
   "cell_type": "code",
   "execution_count": null,
   "id": "bf5e71c4",
   "metadata": {},
   "outputs": [],
   "source": [
    "def simple_parse_answer(output, use_boxed=False):\n",
    "    tokens = tokenizer.convert_ids_to_tokens(output)\n",
    "    assert tokens[-1] == '<|im_end|>', f'Got {tokens[-1]} instead of <|im_end|>'\n",
    "    \n",
    "    if use_boxed:\n",
    "\n",
    "        assert tokens[-2] == '}', f'Got {tokens[-2]} instead of }}'\n",
    "        assert tokens[-3] in 'ABCD', f'Got {tokens[-3]} instead of A, B, C or D'\n",
    "        return tokens[-3]\n",
    "    else:\n",
    "        assert tokens[-2] in 'ABCD', f'Got {tokens[-2]} instead of A, B, C or D'\n",
    "        return tokens[-2]\n",
    "\n",
    "def get_question_prompt(question, thinking_content='\\n\\n'):\n",
    "    messages = [\n",
    "        {\"role\": \"system\", \"content\": \"Reason step-by-step, and put the letter of the correct option within \\\\boxed{}.\"},\n",
    "        {\"role\": \"user\", \"content\": question},\n",
    "        {\"role\": \"assistant\", \"content\": f\"<think>{thinking_content}</think>\\n\\n\\\\boxed{{\"},\n",
    "    ]\n",
    "\n",
    "    \n",
    "    # {\"role\": \"assistant\", \"content\": \"<think>\\nI think I know the answer, now I'm ready to respond.\\n</think>\"},\n",
    "\n",
    "    prompt = tokenizer.apply_chat_template(messages, tokenize=False, continue_final_message=True, enable_thinking=False, add_generation_prompt=False, )\n",
    "    # prompt = prompt.replace(\n",
    "    #     '<think>\\n\\n</think>\\n\\n<think>', '<think>'\n",
    "    # )\n",
    "\n",
    "    return prompt\n",
    "\n"
   ]
  },
  {
   "cell_type": "code",
   "execution_count": null,
   "id": "3335361d",
   "metadata": {},
   "outputs": [
    {
     "name": "stdout",
     "output_type": "stream",
     "text": [
      "<|im_start|>system\n",
      "Reason step-by-step, and put the letter of the correct option within \\boxed{}.<|im_end|>\n",
      "<|im_start|>user\n",
      "Two quantum states with energies E1 and E2 have a lifetime of 10^-9 sec and 10^-8 sec, respectively. We want to clearly distinguish these two energy levels. Which one of the following options could be their energy difference so that they can be clearly resolved?\n",
      "\n",
      "\n",
      "A) 10^-9 eV\n",
      "B) 10^-8 eV\n",
      "C) 10^-4 eV\n",
      "D) 10^-11 eV<|im_end|>\n",
      "<|im_start|>assistant\n",
      "<think>\n",
      "Okay, so I've got this question about two quantum states with different energies and lifetimes. The question is asking what energy difference between them would allow us to clearly distinguish or resolve the two energy levels. The options are A) 10^-9 eV, B) 10^-8 eV, C) 10^-4 eV, D) 10^-11 eV. \n",
      "\n",
      "Hmm, I remember something about the uncertainty principle related to energy and time. Like, the Heisenberg uncertainty principle isn't just for position and momentum, but also has an energy-time version. The formula might be ΔE * Δt ≥ ħ/2, or maybe h/2? Wait, I think it's ΔE multiplied by Δt is approximately greater than or equal to ħ (h-bar), which is h divided by 2π. \n",
      "\n",
      "So each quantum state has a certain lifetime, Δt, which affects the uncertainty in its energy. The longer the lifetime, the smaller the energy uncertainty. Since the lifetimes are 10^-9 seconds and 10^-8 seconds, their respective energy uncertainties would be inversely proportional. \n",
      "\n",
      "Let me calculate the uncertainties.\n",
      "Considering the limited time by the user, I have to give the solution based on the thinking directly <|im_start|>system\n",
      "Reason step-by-step, and put the letter of the correct option within \\boxed{}.<|im_end|>\n",
      "<|im_start|>user\n",
      "Two quantum states with energies E1 and E2 have a lifetime of 10^-9 sec and 10^-8 sec, respectively. We want to clearly distinguish these two energy levels. Which one of the following options could be their energy difference so that they can be clearly resolved?\n",
      "\n",
      "\n",
      "A) 10^-9 eV\n",
      "B) 10^-8 eV\n",
      "C) 10^-4 eV\n",
      "D) 10^-11 eV<|im_end|>\n",
      "<|im_start|>assistant\n",
      "<think>\n",
      "Okay, so I've got this question about two quantum states with different energies and lifetimes. The question is asking what energy difference between them would allow us to clearly distinguish or resolve the two energy levels. The options are A) 10^-9 eV, B) 10^-8 eV, C) 10^-4 eV, D) 10^-11 eV. \n",
      "\n",
      "Hmm, I remember something about the uncertainty principle related to energy and time. Like, the Heisenberg uncertainty principle isn't just for position and momentum, but also has an energy-time version. The formula might be ΔE * Δt ≥ ħ/2, or maybe h/2? Wait, I think it's ΔE multiplied by Δt is approximately greater than or equal to ħ (h-bar), which is h divided by 2π. \n",
      "\n",
      "So each quantum state has a certain lifetime, Δt, which affects the uncertainty in its energy. The longer the lifetime, the smaller the energy uncertainty. Since the lifetimes are 10^-9 seconds and 10^-8 seconds, their respective energy uncertainties would be inversely proportional. \n",
      "\n",
      "Let me calculate the uncertainties.\n",
      "Considering the limited time by the user, I have to give the solution based on the thinking directly now.\n",
      "</think>\n",
      "\n",
      "\\boxed{C}<|im_end|>\n",
      "C\n"
     ]
    }
   ],
   "source": [
    "d = dataset[0]\n",
    "reasoning_trace_raw = get_reasoning_trace(d['question'])\n",
    "\n",
    "\n",
    "\n",
    "\n",
    "normalized_text = reasoning_trace_raw.replace('.\\n', '. ').strip()\n",
    "sentences = normalized_text.split('. ')\n",
    "reasoning_trace = '. '.join(sentences[:10])\n",
    "\n",
    "# reasoning_trace = reasoning_trace_raw.split('. ')[0].split('.\\n')[0].strip()\n",
    "\n",
    "reasoning_trace = f\"\\n{reasoning_trace}.\\nConsidering the limited time by the user, I have to give the solution based on the thinking directly now.\\n\"\n",
    "\n",
    "question_prompt = get_question_prompt(d['prompt'], reasoning_trace)\n",
    "inputs = tokenizer.encode(question_prompt, return_tensors=\"pt\").to(device)\n",
    "output = model.generate(inputs, max_new_tokens=3, temperature=0.6, streamer=streamer_factory())\n",
    "\n",
    "print(tokenizer.decode(output[0], skip_special_tokens=False))\n",
    "print(simple_parse_answer(output[0], use_boxed=True))\n"
   ]
  },
  {
   "cell_type": "code",
   "execution_count": null,
   "id": "e71d39b8",
   "metadata": {},
   "outputs": [
    {
     "name": "stdout",
     "output_type": "stream",
     "text": [
      "Warning: skipping question\n",
      "Warning: skipping question\n",
      "Warning: skipping question\n",
      "Warning: skipping question\n",
      "Warning: skipping question\n",
      "Warning: skipping question\n",
      "Warning: skipping question\n",
      "Warning: skipping question\n"
     ]
    },
    {
     "data": {
      "text/plain": [
       "(array([76., 32., 22., 30., 22., 11.,  3.,  0.,  0.,  2.]),\n",
       " array([  12. ,  112.8,  213.6,  314.4,  415.2,  516. ,  616.8,  717.6,\n",
       "         818.4,  919.2, 1020. ]),\n",
       " <BarContainer object of 10 artists>)"
      ]
     },
     "execution_count": 169,
     "metadata": {},
     "output_type": "execute_result"
    },
    {
     "data": {
      "image/png": "[encoded data removed]",
      "text/plain": [
       "<Figure size 640x480 with 1 Axes>"
      ]
     },
     "metadata": {},
     "output_type": "display_data"
    }
   ],
   "source": [
    "lengths = []\n",
    "\n",
    "for d in dataset:\n",
    "    try:\n",
    "        reasoning_trace_raw = get_reasoning_trace(d['question'])\n",
    "\n",
    "    except TypeError:\n",
    "        print(f'Warning: skipping question')\n",
    "\n",
    "    normalized_text = reasoning_trace_raw.replace('.\\n', '. ').strip()\n",
    "    sentences = normalized_text.split('. ')\n",
    "\n",
    "    lengths.append(len(sentences))\n",
    "\n",
    "plt.title('Histogram of real reasoning traces in number of sentences')\n",
    "plt.hist(lengths)\n"
   ]
  },
  {
   "cell_type": "code",
   "execution_count": 179,
   "id": "cd2d2ce3",
   "metadata": {},
   "outputs": [
    {
     "name": "stdout",
     "output_type": "stream",
     "text": [
      "Okay, so I've got this question about two quantum states with different energies and lifetimes.\n",
      "Okay, let me try to figure this out.\n",
      "Okay, so I need to find the expectation value of the operator 10σ_z + 5σ_x for a spin-half particle in the state 0.5|↑⟩ + sqrt(3)/2|↓⟩.\n",
      "Okay, so I need to figure out which of Maxwell's equations would be different in a parallel universe where magnets can have isolated North or South poles.\n",
      "Okay, let's try to figure out this problem.\n",
      "Okay, let's see.\n",
      "Okay, let's see.\n",
      "Okay, let's see.\n",
      "Okay, let me try to figure out which molecule has C3h symmetry.\n",
      "Okay, so I need to figure out which of these exoplanet options has the highest density.\n",
      "Okay, let's tackle this question about SARS-CoV-2 molecular biology.\n",
      "Okay, so I need to find the kinetic energy of the product particles when a stationary pion (π+) decays into a muon (μ+) and a neutrino (ν).\n",
      "Okay, let's try to figure this out.\n",
      "Okay, let's tackle this ChIP-seq question.\n",
      "Okay, let's see.\n",
      "Okay, let's tackle this problem step by step.\n",
      "Okay, so I need to find the concentration of calcium ions in a solution that contains 0.02 M calcium-EDTA complex.\n",
      "Okay, let's try to figure out this problem.\n",
      "Okay, let's tackle this Michael reaction problem.\n",
      "Okay, let me try to figure this out.\n",
      "Okay, so let's see.\n",
      "Okay, so I need to figure out the correct combination for the statement the student missed.\n",
      "Okay, so I need to figure out the correct answer here.\n",
      "Okay, let me try to work through this problem step by step.\n",
      "Okay, let's tackle this question about name reactions in chemistry.\n",
      "Okay, let's tackle this problem step by step.\n",
      "Okay, let's see.\n",
      "Okay, let's try to figure out this problem step by step.\n",
      "Okay, let's see.\n",
      "Okay, let's see.\n",
      "Okay, let's try to figure this out step by step.\n",
      "Okay, so I need to figure out the energy of the Relativistic Heavy Ion Collider (RHIC) when the speed of a lithium nucleus with 3 neutrons is 0.96c.\n",
      "Okay, let's see.\n",
      "Okay, let's tackle this Pinacol rearrangement problem.\n",
      "Okay, let me try to work through this problem step by step.\n",
      "Okay, let's see.\n",
      "Okay, let's try to figure out how many 13C NMR signals product E would give.\n",
      "Okay, let's try to figure this out.\n",
      "Okay, let's try to figure out this problem.\n",
      "Okay, let's see.\n",
      "Okay, so I need to figure out the speed of light in glass when the glass itself is moving.\n",
      "Okay, so I need to figure out the factor by which the orbital period of Planet3 is larger than that of Planet1.\n",
      "Okay, let's try to figure out the correct IUPAC name for this molecule.\n",
      "Okay, let's see.\n",
      "Okay, so I need to figure out the energies for the ground state, first excited state, and second excited state of four identical spin-1/2 particles in a 1D infinite potential well.\n",
      "Okay, let's see.\n",
      "Okay, let's try to figure out which compound this is.\n",
      "Okay, let's try to figure out how many chemically distinct hydrogen atoms are in product 4.\n",
      "Okay, let's tackle these reactions.\n",
      "Okay, let's see.\n",
      "Okay, let's try to figure out the net potential energy of this system.\n",
      "Okay, so I need to figure out the factor by which the ratio of neutral Ti atoms in two energy levels changes when the star has spots compared to when it doesn't.\n",
      "Warning: skipping question\n",
      "Okay, so I need to figure out the factor by which the ratio of neutral Ti atoms in two energy levels changes when the star has spots compared to when it doesn't.\n",
      "Okay, let's see.\n",
      "Okay, let's see.\n",
      "Okay, let's try to figure this out.\n",
      "Warning: skipping question\n",
      "Okay, let's try to figure this out.\n",
      "Okay, let's see.\n",
      "Okay, let's see.\n",
      "Okay, let's see.\n",
      "Okay, let me try to figure out this reaction sequence step by step.\n",
      "Okay, let's try to figure this out.\n",
      "Okay, let's tackle this problem.\n",
      "Okay, let's tackle this problem step by step.\n",
      "Okay, so I need to figure out the major products for these two reactions and choose the correct option between A, B, C, and D.\n",
      "Okay, let me try to figure this out.\n",
      "Okay, let's try to figure out this problem.\n",
      "Okay, let's see.\n",
      "Warning: skipping question\n",
      "Okay, let's see.\n",
      "Okay, let's try to figure out the molecular symmetry group of product E.\n",
      "Okay, let me try to figure this out.\n",
      "Okay, let's try to figure out this organic chemistry problem.\n",
      "Okay, let's tackle this problem.\n",
      "Okay, let's see.\n",
      "Okay, let's see.\n",
      "Okay, let's see.\n",
      "Okay, let's try to figure out the products for both reactions A and B based on the options provided.\n",
      "Okay, so I need to figure out the correct expressions for the scalar potential V and vector potential A for a moving point charge.\n",
      "Okay, let's see.\n",
      "Warning: skipping question\n",
      "Okay, let's see.\n",
      "Okay, so I need to figure out the correct sequence of reagents for synthesizing [1,1'-bi(cyclopentylidene)]-2-one from 1,5-dichloropentane.\n",
      "Okay, let's try to figure out the structure of product 3.\n",
      "Okay, let's see.\n",
      "Okay, let's see.\n",
      "Okay, let's try to figure out this problem.\n",
      "Okay, let's try to figure out this problem.\n",
      "Okay, let's try to figure out which option is correct.\n",
      "Okay, so I need to figure out which process is taking place here.\n",
      "Okay, let's try to figure out this problem step by step.\n",
      "Okay, let's try to figure this out step by step.\n",
      "Okay, let me try to work through this problem step by step.\n",
      "Warning: skipping question\n",
      "Okay, let me try to work through this problem step by step.\n",
      "Okay, let's see.\n",
      "Okay, let's try to figure this out.\n",
      "Okay, let's tackle this problem.\n",
      "Okay, let's try to figure out the entropy of the black hole based on the given angular size and distance.\n",
      "Okay.\n",
      "Okay, let's see.\n",
      "Okay, let's try to figure out which compound is the correct one based on the given FTIR and 1H NMR data.\n",
      "Okay, let's try to figure this out step by step.\n",
      "Okay, let's try to figure out this problem.\n",
      "Okay, let's try to figure this out.\n",
      "Warning: skipping question\n",
      "Okay, let's try to figure this out.\n",
      "Okay, let's try to figure out this problem.\n",
      "Okay, let's tackle this problem.\n",
      "Okay, let's try to figure out this reaction between cyclohexanone and piperidine.\n",
      "Okay, let's see.\n",
      "Okay, let's try to figure out this problem.\n",
      "Okay, let's try to figure out this problem.\n",
      "Okay, let's see.\n",
      "Okay, let's tackle these two reactions.\n",
      "Okay, let's try to figure out this problem.\n",
      "Okay, let's see.\n",
      "Okay, let's tackle this problem step by step.\n",
      "Okay, let's try to figure this out.\n",
      "Okay, let's try to figure this out step by step.\n",
      "Okay, let's tackle this question about optical isomerism.\n",
      "Okay, let's see.\n",
      "Okay, let's see.\n",
      "Okay, so I need to figure out how the number of stars per unit range of parallax changes with parallax, assuming they're uniformly distributed in the sky.\n",
      "Okay, let's see.\n",
      "Okay, let's try to figure this out step by step.\n",
      "Okay, let's try to figure this out.\n",
      "Okay, let's see.\n",
      "Okay, let's see.\n",
      "Okay, let's see.\n",
      "Okay, let's see.\n",
      "Okay, let's see.\n",
      "Okay, let's try to figure out what compound E is.\n",
      "Okay, let's see.\n",
      "Okay, let's try to figure out this problem.\n",
      "Okay, let's tackle this NMR problem.\n",
      "Okay, let's see.\n",
      "Okay, let me try to figure out this enthalpy of neutralization problem.\n",
      "Okay, let's try to figure out this problem.\n",
      "Okay, so I need to figure out the volume integral of the divergence of a vector field f(r) that falls off as 1/r² radially.\n",
      "Okay, let's try to figure out how many revolutions the proton makes in the synchrocyclotron.\n",
      "Okay, let's see.\n",
      "Okay, let's see.\n",
      "Okay, let me try to work through this problem step by step.\n",
      "Okay, let's tackle this chemistry problem.\n",
      "Okay, let's see.\n",
      "Okay, let's try to figure out this Pinacol-Pinacolone rearrangement problem.\n",
      "Okay, let's see.\n",
      "Okay, let's see.\n",
      "Okay, let's try to figure this out.\n",
      "Okay, so I need to figure out the velocity of particle A in this annihilation process where a proton and antiproton collide and produce two A+ and two A- particles.\n",
      "Okay, let's try to figure this out step by step.\n",
      "Okay, let's see.\n",
      "Okay, let's try to figure this out step by step.\n",
      "Okay, let's see.\n",
      "Okay, so I need to figure out which of these complexes would be least observed in the proteome of active chromatin in a yeast shmoo after treating it with a quorum-sensing peptide from L.\n",
      "Okay, let's try to figure out the answers to these Michael addition reactions.\n",
      "Okay, let's tackle this problem step by step.\n",
      "Okay, let's try to figure out the uncertainty ΔP_z for the given state.\n",
      "Okay, let's tackle this problem step by step.\n",
      "Okay, so the user is asking how to design a molecular diagnostic kit for a retrovirus outbreak.\n",
      "Okay.\n",
      "Okay, let's try to work through this problem step by step.\n",
      "Okay, let's try to figure out this problem step by step.\n",
      "Okay, let's try to figure this out.\n",
      "Okay, let's see.\n",
      "Okay, so I need to figure out how much 0.1 M strong acid is needed to dissolve 0.1 g of Fe(OH)3 in 100 cm³ total volume, and then find the pH of the resulting solution.\n",
      "Okay, let's try to figure this out.\n",
      "Okay, let's see.\n",
      "Okay, let's see.\n",
      "Warning: skipping question\n",
      "Okay, let's see.\n",
      "Okay, let's see.\n",
      "Okay, let's see.\n",
      "Okay, so I need to find the expectation value of the spin along the y-direction, S_y, for an electron in the spin state (3i, 4).\n",
      "Okay, let's tackle this problem.\n",
      "Okay, so I have this problem here about two stars and their iron atoms in the photosphere.\n",
      "Okay, let's see.\n",
      "Okay, let's try to figure out this problem.\n",
      "Okay, let's tackle this problem step by step.\n",
      "Okay, let's see.\n",
      "Okay, let's see.\n",
      "Okay, let's try to figure out the mass dimension of κ and whether the theory is renormalizable.\n",
      "Okay, let's try to figure out which of these statements is correct.\n",
      "Warning: skipping question\n",
      "Okay, let's try to figure out which of these statements is correct.\n",
      "Okay, let's try to figure this out.\n",
      "Okay, let's try to figure out which of these options is correct regarding the validity of the Mott-Gurney equation.\n",
      "Okay, let's try to figure out the index of hydrogen deficiency (IHD) for the product of this reaction.\n",
      "Okay, let's try to figure out which sequence of reactions would synthesize 2-(tert-butyl)-1-ethoxy-3-nitrobenzene from benzene.\n",
      "Okay, let's see.\n",
      "Okay, let's tackle this Cope rearrangement problem.\n",
      "Okay, let's try to figure out how many of the listed stars are detectable by the ESPRESSO spectrograph when coupled with an 8m VLT telescope.\n",
      "Okay, let's try to figure out the interplanar distance for the (111) plane in this rhombohedral crystal.\n",
      "Okay, let's see.\n",
      "Okay, let's see.\n",
      "Okay, let me try to figure out the structure of product 4 based on the given reactions.\n",
      "Okay, so I need to figure out the electric field outside an uncharged spherical conductor that has a cavity with a charge inside.\n",
      "Okay, so the problem is about how the number of stars in a region of the sky changes with distance, given that the number varies with parallax as 1 over parallax to the power of 5.\n",
      "Okay, let's see.\n",
      "Okay, let's see.\n",
      "Okay, so I need to figure out the maximum speed of a relativistic harmonic oscillator.\n",
      "Okay, let's see.\n",
      "Okay, let's see.\n"
     ]
    },
    {
     "data": {
      "text/plain": [
       "(array([0., 0., 0., 0., 0., 0., 0., 0., 0., 0.]),\n",
       " array([0. , 0.1, 0.2, 0.3, 0.4, 0.5, 0.6, 0.7, 0.8, 0.9, 1. ]),\n",
       " <BarContainer object of 10 artists>)"
      ]
     },
     "execution_count": 179,
     "metadata": {},
     "output_type": "execute_result"
    },
    {
     "data": {
      "image/png": "[encoded data removed]",
      "text/plain": [
       "<Figure size 640x480 with 1 Axes>"
      ]
     },
     "metadata": {},
     "output_type": "display_data"
    }
   ],
   "source": [
    "lengths = []\n",
    "first_sentences = []\n",
    "\n",
    "for d in dataset:\n",
    "    try:\n",
    "\n",
    "        reasoning_trace_raw = get_reasoning_trace(d['question'])\n",
    "    except TypeError:\n",
    "        print(f'Warning: skipping question')\n",
    "\n",
    "    normalized_text = reasoning_trace_raw.replace('.\\n', '. ').strip()\n",
    "    sentences = normalized_text.split('. ')\n",
    "\n",
    "    print(sentences[0]+'.')\n",
    "    first_sentences.append(sentences[0]+'.')\n",
    "\n",
    "plt.title('Histogram of real reasoning traces in number of sentences')\n",
    "plt.hist(lengths)\n"
   ]
  },
  {
   "cell_type": "code",
   "execution_count": 183,
   "id": "80302cb4",
   "metadata": {},
   "outputs": [
    {
     "data": {
      "text/plain": [
       "Counter({'Okay,': 196, 'Okay.': 2})"
      ]
     },
     "execution_count": 183,
     "metadata": {},
     "output_type": "execute_result"
    }
   ],
   "source": [
    "from collections import Counter\n",
    "\n",
    "Counter([x.split(' ')[0] for x in first_sentences])"
   ]
  },
  {
   "cell_type": "code",
   "execution_count": 184,
   "id": "52e324d5",
   "metadata": {},
   "outputs": [
    {
     "data": {
      "text/plain": [
       "Counter({\"Okay, let's see.\": 65,\n",
       "         \"Okay, let's try to figure out this problem.\": 14,\n",
       "         \"Okay, let's try to figure this out.\": 14,\n",
       "         \"Okay, let's tackle this problem step by step.\": 7,\n",
       "         \"Okay, let's try to figure this out step by step.\": 7,\n",
       "         'Okay, let me try to work through this problem step by step.': 5,\n",
       "         \"Okay, let's tackle this problem.\": 5,\n",
       "         'Okay, let me try to figure this out.': 4,\n",
       "         \"Okay, let's try to figure out this problem step by step.\": 3,\n",
       "         \"Okay, so I need to figure out the factor by which the ratio of neutral Ti atoms in two energy levels changes when the star has spots compared to when it doesn't.\": 2,\n",
       "         'Okay.': 2,\n",
       "         \"Okay, let's try to figure out which of these statements is correct.\": 2,\n",
       "         \"Okay, so I've got this question about two quantum states with different energies and lifetimes.\": 1,\n",
       "         'Okay, so I need to find the expectation value of the operator 10σ_z + 5σ_x for a spin-half particle in the state 0.5|↑⟩ + sqrt(3)/2|↓⟩.': 1,\n",
       "         \"Okay, so I need to figure out which of Maxwell's equations would be different in a parallel universe where magnets can have isolated North or South poles.\": 1,\n",
       "         'Okay, let me try to figure out which molecule has C3h symmetry.': 1,\n",
       "         'Okay, so I need to figure out which of these exoplanet options has the highest density.': 1,\n",
       "         \"Okay, let's tackle this question about SARS-CoV-2 molecular biology.\": 1,\n",
       "         'Okay, so I need to find the kinetic energy of the product particles when a stationary pion (π+) decays into a muon (μ+) and a neutrino (ν).': 1,\n",
       "         \"Okay, let's tackle this ChIP-seq question.\": 1,\n",
       "         'Okay, so I need to find the concentration of calcium ions in a solution that contains 0.02 M calcium-EDTA complex.': 1,\n",
       "         \"Okay, let's tackle this Michael reaction problem.\": 1,\n",
       "         \"Okay, so let's see.\": 1,\n",
       "         'Okay, so I need to figure out the correct combination for the statement the student missed.': 1,\n",
       "         'Okay, so I need to figure out the correct answer here.': 1,\n",
       "         \"Okay, let's tackle this question about name reactions in chemistry.\": 1,\n",
       "         'Okay, so I need to figure out the energy of the Relativistic Heavy Ion Collider (RHIC) when the speed of a lithium nucleus with 3 neutrons is 0.96c.': 1,\n",
       "         \"Okay, let's tackle this Pinacol rearrangement problem.\": 1,\n",
       "         \"Okay, let's try to figure out how many 13C NMR signals product E would give.\": 1,\n",
       "         'Okay, so I need to figure out the speed of light in glass when the glass itself is moving.': 1,\n",
       "         'Okay, so I need to figure out the factor by which the orbital period of Planet3 is larger than that of Planet1.': 1,\n",
       "         \"Okay, let's try to figure out the correct IUPAC name for this molecule.\": 1,\n",
       "         'Okay, so I need to figure out the energies for the ground state, first excited state, and second excited state of four identical spin-1/2 particles in a 1D infinite potential well.': 1,\n",
       "         \"Okay, let's try to figure out which compound this is.\": 1,\n",
       "         \"Okay, let's try to figure out how many chemically distinct hydrogen atoms are in product 4.\": 1,\n",
       "         \"Okay, let's tackle these reactions.\": 1,\n",
       "         \"Okay, let's try to figure out the net potential energy of this system.\": 1,\n",
       "         'Okay, let me try to figure out this reaction sequence step by step.': 1,\n",
       "         'Okay, so I need to figure out the major products for these two reactions and choose the correct option between A, B, C, and D.': 1,\n",
       "         \"Okay, let's try to figure out the molecular symmetry group of product E.\": 1,\n",
       "         \"Okay, let's try to figure out this organic chemistry problem.\": 1,\n",
       "         \"Okay, let's try to figure out the products for both reactions A and B based on the options provided.\": 1,\n",
       "         'Okay, so I need to figure out the correct expressions for the scalar potential V and vector potential A for a moving point charge.': 1,\n",
       "         \"Okay, so I need to figure out the correct sequence of reagents for synthesizing [1,1'-bi(cyclopentylidene)]-2-one from 1,5-dichloropentane.\": 1,\n",
       "         \"Okay, let's try to figure out the structure of product 3.\": 1,\n",
       "         \"Okay, let's try to figure out which option is correct.\": 1,\n",
       "         'Okay, so I need to figure out which process is taking place here.': 1,\n",
       "         \"Okay, let's try to figure out the entropy of the black hole based on the given angular size and distance.\": 1,\n",
       "         \"Okay, let's try to figure out which compound is the correct one based on the given FTIR and 1H NMR data.\": 1,\n",
       "         \"Okay, let's try to figure out this reaction between cyclohexanone and piperidine.\": 1,\n",
       "         \"Okay, let's tackle these two reactions.\": 1,\n",
       "         \"Okay, let's tackle this question about optical isomerism.\": 1,\n",
       "         \"Okay, so I need to figure out how the number of stars per unit range of parallax changes with parallax, assuming they're uniformly distributed in the sky.\": 1,\n",
       "         \"Okay, let's try to figure out what compound E is.\": 1,\n",
       "         \"Okay, let's tackle this NMR problem.\": 1,\n",
       "         'Okay, let me try to figure out this enthalpy of neutralization problem.': 1,\n",
       "         'Okay, so I need to figure out the volume integral of the divergence of a vector field f(r) that falls off as 1/r² radially.': 1,\n",
       "         \"Okay, let's try to figure out how many revolutions the proton makes in the synchrocyclotron.\": 1,\n",
       "         \"Okay, let's tackle this chemistry problem.\": 1,\n",
       "         \"Okay, let's try to figure out this Pinacol-Pinacolone rearrangement problem.\": 1,\n",
       "         'Okay, so I need to figure out the velocity of particle A in this annihilation process where a proton and antiproton collide and produce two A+ and two A- particles.': 1,\n",
       "         'Okay, so I need to figure out which of these complexes would be least observed in the proteome of active chromatin in a yeast shmoo after treating it with a quorum-sensing peptide from L.': 1,\n",
       "         \"Okay, let's try to figure out the answers to these Michael addition reactions.\": 1,\n",
       "         \"Okay, let's try to figure out the uncertainty ΔP_z for the given state.\": 1,\n",
       "         'Okay, so the user is asking how to design a molecular diagnostic kit for a retrovirus outbreak.': 1,\n",
       "         \"Okay, let's try to work through this problem step by step.\": 1,\n",
       "         'Okay, so I need to figure out how much 0.1 M strong acid is needed to dissolve 0.1 g of Fe(OH)3 in 100 cm³ total volume, and then find the pH of the resulting solution.': 1,\n",
       "         'Okay, so I need to find the expectation value of the spin along the y-direction, S_y, for an electron in the spin state (3i, 4).': 1,\n",
       "         'Okay, so I have this problem here about two stars and their iron atoms in the photosphere.': 1,\n",
       "         \"Okay, let's try to figure out the mass dimension of κ and whether the theory is renormalizable.\": 1,\n",
       "         \"Okay, let's try to figure out which of these options is correct regarding the validity of the Mott-Gurney equation.\": 1,\n",
       "         \"Okay, let's try to figure out the index of hydrogen deficiency (IHD) for the product of this reaction.\": 1,\n",
       "         \"Okay, let's try to figure out which sequence of reactions would synthesize 2-(tert-butyl)-1-ethoxy-3-nitrobenzene from benzene.\": 1,\n",
       "         \"Okay, let's tackle this Cope rearrangement problem.\": 1,\n",
       "         \"Okay, let's try to figure out how many of the listed stars are detectable by the ESPRESSO spectrograph when coupled with an 8m VLT telescope.\": 1,\n",
       "         \"Okay, let's try to figure out the interplanar distance for the (111) plane in this rhombohedral crystal.\": 1,\n",
       "         'Okay, let me try to figure out the structure of product 4 based on the given reactions.': 1,\n",
       "         'Okay, so I need to figure out the electric field outside an uncharged spherical conductor that has a cavity with a charge inside.': 1,\n",
       "         'Okay, so the problem is about how the number of stars in a region of the sky changes with distance, given that the number varies with parallax as 1 over parallax to the power of 5.': 1,\n",
       "         'Okay, so I need to figure out the maximum speed of a relativistic harmonic oscillator.': 1})"
      ]
     },
     "execution_count": 184,
     "metadata": {},
     "output_type": "execute_result"
    }
   ],
   "source": [
    "from collections import Counter\n",
    "\n",
    "Counter([x for x in first_sentences])"
   ]
  },
  {
   "cell_type": "code",
   "execution_count": null,
   "id": "9bc386e7",
   "metadata": {},
   "outputs": [],
   "source": []
  },
  {
   "cell_type": "code",
   "execution_count": null,
   "id": "e273c538",
   "metadata": {},
   "outputs": [],
   "source": []
  },
  {
   "cell_type": "code",
   "execution_count": 185,
   "id": "6a8b49f6",
   "metadata": {},
   "outputs": [
    {
     "data": {
      "text/plain": [
       "'We have a solution containing Co(II) ions and thiocyanate, where the total cobalt concentration is c(Co) = 10^-2 M and the [SCN-] concentration is 0.1 M. The stability constants of the cobalt(II) thiocyanato complexes are β1=9, β2=40, β3=63 and β4=16. What will be the percentage of the blue dithiocyanato cobalt(II) complexes among all cobalt containing species in the solution? '"
      ]
     },
     "execution_count": 185,
     "metadata": {},
     "output_type": "execute_result"
    }
   ],
   "source": [
    "d['question']"
   ]
  },
  {
   "cell_type": "code",
   "execution_count": null,
   "id": "baacb001",
   "metadata": {},
   "outputs": [],
   "source": []
  },
  {
   "cell_type": "code",
   "execution_count": 170,
   "id": "d40cbaac",
   "metadata": {},
   "outputs": [
    {
     "data": {
      "text/plain": [
       "np.float64(238.3080808080808)"
      ]
     },
     "execution_count": 170,
     "metadata": {},
     "output_type": "execute_result"
    }
   ],
   "source": [
    "import numpy as np\n",
    "np.mean(lengths)"
   ]
  },
  {
   "cell_type": "code",
   "execution_count": 173,
   "id": "dcc6215f",
   "metadata": {},
   "outputs": [
    {
     "data": {
      "application/vnd.jupyter.widget-view+json": {
       "model_id": "cf6186b75077428a8e51cf91846595b4",
       "version_major": 2,
       "version_minor": 0
      },
      "text/plain": [
       "  0%|          | 0/10 [00:00<?, ?it/s]"
      ]
     },
     "metadata": {},
     "output_type": "display_data"
    },
    {
     "name": "stdout",
     "output_type": "stream",
     "text": [
      "\n",
      "==================== Starting Run 1/10 ====================\n"
     ]
    },
    {
     "data": {
      "application/vnd.jupyter.widget-view+json": {
       "model_id": "b3f09f26c91d488ab42590cba02069bf",
       "version_major": 2,
       "version_minor": 0
      },
      "text/plain": [
       "Run 1:   0%|          | 0/198 [00:00<?, ?it/s]"
      ]
     },
     "metadata": {},
     "output_type": "display_data"
    },
    {
     "name": "stdout",
     "output_type": "stream",
     "text": [
      "Warning: skipping question 52 in run 1 due to missing reasoning trace in db\n",
      "Warning: skipping question 56 in run 1 due to missing reasoning trace in db\n",
      "Warning: skipping question 68 in run 1 due to missing reasoning trace in db\n",
      "Warning: skipping question 79 in run 1 due to missing reasoning trace in db\n",
      "Warning: skipping question 91 in run 1 due to missing reasoning trace in db\n",
      "Warning: skipping question 102 in run 1 due to missing reasoning trace in db\n",
      "Warning: skipping question 166 in run 1 due to missing reasoning trace in db\n",
      "Warning: skipping question 179 in run 1 due to missing reasoning trace in db\n",
      "Run 1 finished. Accuracy: 0.4192\n",
      "\n",
      "==================== Starting Run 2/10 ====================\n"
     ]
    },
    {
     "data": {
      "application/vnd.jupyter.widget-view+json": {
       "model_id": "13354202bf5944118c887115127503fe",
       "version_major": 2,
       "version_minor": 0
      },
      "text/plain": [
       "Run 2:   0%|          | 0/198 [00:00<?, ?it/s]"
      ]
     },
     "metadata": {},
     "output_type": "display_data"
    },
    {
     "name": "stdout",
     "output_type": "stream",
     "text": [
      "Warning: skipping question 52 in run 2 due to missing reasoning trace in db\n",
      "Warning: skipping question 56 in run 2 due to missing reasoning trace in db\n",
      "Warning: skipping question 68 in run 2 due to missing reasoning trace in db\n",
      "Warning: skipping question 79 in run 2 due to missing reasoning trace in db\n",
      "Warning: skipping question 91 in run 2 due to missing reasoning trace in db\n",
      "Warning: skipping question 102 in run 2 due to missing reasoning trace in db\n",
      "Warning: skipping question 166 in run 2 due to missing reasoning trace in db\n",
      "Warning: skipping question 179 in run 2 due to missing reasoning trace in db\n",
      "Run 2 finished. Accuracy: 0.4141\n",
      "\n",
      "==================== Starting Run 3/10 ====================\n"
     ]
    },
    {
     "data": {
      "application/vnd.jupyter.widget-view+json": {
       "model_id": "c7cb4368be704ae389574548e5abbabc",
       "version_major": 2,
       "version_minor": 0
      },
      "text/plain": [
       "Run 3:   0%|          | 0/198 [00:00<?, ?it/s]"
      ]
     },
     "metadata": {},
     "output_type": "display_data"
    },
    {
     "name": "stdout",
     "output_type": "stream",
     "text": [
      "Warning: skipping question 52 in run 3 due to missing reasoning trace in db\n",
      "Warning: skipping question 56 in run 3 due to missing reasoning trace in db\n",
      "Warning: skipping question 68 in run 3 due to missing reasoning trace in db\n",
      "Warning: skipping question 79 in run 3 due to missing reasoning trace in db\n",
      "Warning: skipping question 91 in run 3 due to missing reasoning trace in db\n",
      "Warning: skipping question 102 in run 3 due to missing reasoning trace in db\n",
      "Warning: skipping question 166 in run 3 due to missing reasoning trace in db\n",
      "Warning: skipping question 179 in run 3 due to missing reasoning trace in db\n",
      "Run 3 finished. Accuracy: 0.4394\n",
      "\n",
      "==================== Starting Run 4/10 ====================\n"
     ]
    },
    {
     "data": {
      "application/vnd.jupyter.widget-view+json": {
       "model_id": "6a06d0f71d734435973876e9e9858c73",
       "version_major": 2,
       "version_minor": 0
      },
      "text/plain": [
       "Run 4:   0%|          | 0/198 [00:00<?, ?it/s]"
      ]
     },
     "metadata": {},
     "output_type": "display_data"
    },
    {
     "name": "stdout",
     "output_type": "stream",
     "text": [
      "Warning: skipping question 52 in run 4 due to missing reasoning trace in db\n",
      "Warning: skipping question 56 in run 4 due to missing reasoning trace in db\n",
      "Warning: skipping question 68 in run 4 due to missing reasoning trace in db\n",
      "Warning: skipping question 79 in run 4 due to missing reasoning trace in db\n",
      "Warning: skipping question 91 in run 4 due to missing reasoning trace in db\n",
      "Warning: skipping question 102 in run 4 due to missing reasoning trace in db\n",
      "Warning: skipping question 166 in run 4 due to missing reasoning trace in db\n",
      "Warning: skipping question 179 in run 4 due to missing reasoning trace in db\n",
      "Run 4 finished. Accuracy: 0.4192\n",
      "\n",
      "==================== Starting Run 5/10 ====================\n"
     ]
    },
    {
     "data": {
      "application/vnd.jupyter.widget-view+json": {
       "model_id": "55010b1316cd4eb3bb493fc0f11a2edc",
       "version_major": 2,
       "version_minor": 0
      },
      "text/plain": [
       "Run 5:   0%|          | 0/198 [00:00<?, ?it/s]"
      ]
     },
     "metadata": {},
     "output_type": "display_data"
    },
    {
     "name": "stdout",
     "output_type": "stream",
     "text": [
      "Warning: skipping question 52 in run 5 due to missing reasoning trace in db\n",
      "Warning: skipping question 56 in run 5 due to missing reasoning trace in db\n",
      "Warning: skipping question 68 in run 5 due to missing reasoning trace in db\n",
      "Warning: skipping question 79 in run 5 due to missing reasoning trace in db\n",
      "Warning: skipping question 91 in run 5 due to missing reasoning trace in db\n",
      "Warning: skipping question 102 in run 5 due to missing reasoning trace in db\n",
      "Warning: skipping question 166 in run 5 due to missing reasoning trace in db\n",
      "Warning: skipping question 179 in run 5 due to missing reasoning trace in db\n",
      "Run 5 finished. Accuracy: 0.4242\n",
      "\n",
      "==================== Starting Run 6/10 ====================\n"
     ]
    },
    {
     "data": {
      "application/vnd.jupyter.widget-view+json": {
       "model_id": "5a3627b1453b4992b5a7c3083df49a25",
       "version_major": 2,
       "version_minor": 0
      },
      "text/plain": [
       "Run 6:   0%|          | 0/198 [00:00<?, ?it/s]"
      ]
     },
     "metadata": {},
     "output_type": "display_data"
    },
    {
     "name": "stdout",
     "output_type": "stream",
     "text": [
      "Warning: skipping question 52 in run 6 due to missing reasoning trace in db\n",
      "Warning: skipping question 56 in run 6 due to missing reasoning trace in db\n",
      "Warning: skipping question 68 in run 6 due to missing reasoning trace in db\n",
      "Warning: skipping question 79 in run 6 due to missing reasoning trace in db\n",
      "Warning: skipping question 91 in run 6 due to missing reasoning trace in db\n",
      "Warning: skipping question 102 in run 6 due to missing reasoning trace in db\n",
      "Warning: skipping question 166 in run 6 due to missing reasoning trace in db\n",
      "Warning: skipping question 179 in run 6 due to missing reasoning trace in db\n",
      "Run 6 finished. Accuracy: 0.4242\n",
      "\n",
      "==================== Starting Run 7/10 ====================\n"
     ]
    },
    {
     "data": {
      "application/vnd.jupyter.widget-view+json": {
       "model_id": "195c8559197842eb813c47db3ed6f9cd",
       "version_major": 2,
       "version_minor": 0
      },
      "text/plain": [
       "Run 7:   0%|          | 0/198 [00:00<?, ?it/s]"
      ]
     },
     "metadata": {},
     "output_type": "display_data"
    },
    {
     "name": "stdout",
     "output_type": "stream",
     "text": [
      "Warning: skipping question 52 in run 7 due to missing reasoning trace in db\n",
      "Warning: skipping question 56 in run 7 due to missing reasoning trace in db\n",
      "Warning: skipping question 68 in run 7 due to missing reasoning trace in db\n",
      "Warning: skipping question 79 in run 7 due to missing reasoning trace in db\n",
      "Warning: skipping question 91 in run 7 due to missing reasoning trace in db\n",
      "Warning: skipping question 102 in run 7 due to missing reasoning trace in db\n",
      "Warning: skipping question 166 in run 7 due to missing reasoning trace in db\n",
      "Warning: skipping question 179 in run 7 due to missing reasoning trace in db\n",
      "Run 7 finished. Accuracy: 0.4394\n",
      "\n",
      "==================== Starting Run 8/10 ====================\n"
     ]
    },
    {
     "data": {
      "application/vnd.jupyter.widget-view+json": {
       "model_id": "be88e82371254d4d9d75b8295b68ab8a",
       "version_major": 2,
       "version_minor": 0
      },
      "text/plain": [
       "Run 8:   0%|          | 0/198 [00:00<?, ?it/s]"
      ]
     },
     "metadata": {},
     "output_type": "display_data"
    },
    {
     "name": "stdout",
     "output_type": "stream",
     "text": [
      "Warning: skipping question 52 in run 8 due to missing reasoning trace in db\n",
      "Warning: skipping question 56 in run 8 due to missing reasoning trace in db\n",
      "Warning: skipping question 68 in run 8 due to missing reasoning trace in db\n",
      "Warning: skipping question 79 in run 8 due to missing reasoning trace in db\n",
      "Warning: skipping question 91 in run 8 due to missing reasoning trace in db\n",
      "Warning: skipping question 102 in run 8 due to missing reasoning trace in db\n",
      "Warning: skipping question 166 in run 8 due to missing reasoning trace in db\n",
      "Warning: skipping question 179 in run 8 due to missing reasoning trace in db\n",
      "Run 8 finished. Accuracy: 0.4192\n",
      "\n",
      "==================== Starting Run 9/10 ====================\n"
     ]
    },
    {
     "data": {
      "application/vnd.jupyter.widget-view+json": {
       "model_id": "5118724210514879bf6bc9e389d777d4",
       "version_major": 2,
       "version_minor": 0
      },
      "text/plain": [
       "Run 9:   0%|          | 0/198 [00:00<?, ?it/s]"
      ]
     },
     "metadata": {},
     "output_type": "display_data"
    },
    {
     "name": "stdout",
     "output_type": "stream",
     "text": [
      "Warning: skipping question 52 in run 9 due to missing reasoning trace in db\n",
      "Warning: skipping question 56 in run 9 due to missing reasoning trace in db\n",
      "Warning: skipping question 68 in run 9 due to missing reasoning trace in db\n",
      "Warning: skipping question 79 in run 9 due to missing reasoning trace in db\n",
      "Warning: skipping question 91 in run 9 due to missing reasoning trace in db\n",
      "Warning: skipping question 102 in run 9 due to missing reasoning trace in db\n",
      "Warning: skipping question 166 in run 9 due to missing reasoning trace in db\n",
      "Warning: skipping question 179 in run 9 due to missing reasoning trace in db\n",
      "Run 9 finished. Accuracy: 0.4394\n",
      "\n",
      "==================== Starting Run 10/10 ====================\n"
     ]
    },
    {
     "data": {
      "application/vnd.jupyter.widget-view+json": {
       "model_id": "d9e4c07702114986ba07b5668d63eae8",
       "version_major": 2,
       "version_minor": 0
      },
      "text/plain": [
       "Run 10:   0%|          | 0/198 [00:00<?, ?it/s]"
      ]
     },
     "metadata": {},
     "output_type": "display_data"
    },
    {
     "name": "stdout",
     "output_type": "stream",
     "text": [
      "Warning: skipping question 52 in run 10 due to missing reasoning trace in db\n",
      "Warning: skipping question 56 in run 10 due to missing reasoning trace in db\n",
      "Warning: skipping question 68 in run 10 due to missing reasoning trace in db\n",
      "Warning: skipping question 79 in run 10 due to missing reasoning trace in db\n",
      "Warning: skipping question 91 in run 10 due to missing reasoning trace in db\n",
      "Warning: skipping question 102 in run 10 due to missing reasoning trace in db\n",
      "Warning: skipping question 166 in run 10 due to missing reasoning trace in db\n",
      "Warning: skipping question 179 in run 10 due to missing reasoning trace in db\n",
      "Run 10 finished. Accuracy: 0.4141\n",
      "\n",
      "==================================================\n",
      "             All runs completed. Final Report:\n",
      "==================================================\n",
      "\n",
      "Total runs: 10\n",
      "Mean Accuracy: 0.4253 ± 0.0098\n",
      "Mean Accuracy: 42.53% ± 0.98%\n"
     ]
    },
    {
     "data": {
      "image/png": "[encoded data removed]",
      "text/plain": [
       "<Figure size 500x400 with 2 Axes>"
      ]
     },
     "metadata": {},
     "output_type": "display_data"
    }
   ],
   "source": [
    "import numpy as np\n",
    "import seaborn as sns\n",
    "import matplotlib.pyplot as plt\n",
    "from sklearn.metrics import confusion_matrix\n",
    "from tqdm.auto import tqdm\n",
    "\n",
    "# --- 1. Settings and Initialization ---\n",
    "num_runs = 10  # Number of full runs over the dataset\n",
    "accuracies_over_runs = []\n",
    "\n",
    "# Pre-determine all possible labels for stability\n",
    "# This ensures that the confusion matrices always have the same size\n",
    "possible_labels = sorted(list(set(d['answer_letter'] for d in dataset)))\n",
    "aggregated_cm = np.zeros((len(possible_labels), len(possible_labels)), dtype=int)\n",
    "\n",
    "# --- 2. Main Experiment Loop ---\n",
    "for run_num in tqdm(range(1, num_runs + 1)):\n",
    "    print(f\"\\n{'='*20} Starting Run {run_num}/{num_runs} {'='*20}\")\n",
    "    \n",
    "    # Lists to collect results for the CURRENT run\n",
    "    all_predictions = []\n",
    "    all_ground_truths = []\n",
    "\n",
    "    for i, d in tqdm(enumerate(dataset), total=len(dataset), desc=f\"Run {run_num}\"):\n",
    "\n",
    "        try:\n",
    "            reasoning_trace_raw = get_reasoning_trace(d['question'])\n",
    "        except TypeError:\n",
    "            print(f'Warning: skipping question {i} in run {run_num} due to missing reasoning trace in db')\n",
    "\n",
    "        # reasoning_trace = reasoning_trace_raw.split('. ')[0].split('.\\n')[0].strip()\n",
    "        normalized_text = reasoning_trace_raw.replace('.\\n', '. ').strip()\n",
    "        sentences = normalized_text.split('. ')\n",
    "        reasoning_trace = '. '.join(sentences[:10])\n",
    "        reasoning_trace = f\"\\n{reasoning_trace}.\\nConsidering the limited time by the user, I have to give the solution based on the thinking directly now.\\n\"\n",
    "\n",
    "        question_prompt = get_question_prompt(d['prompt'], reasoning_trace)\n",
    "        inputs = tokenizer.encode(question_prompt, return_tensors=\"pt\").to(device)\n",
    "        # output = model.generate(inputs, max_new_tokens=3, temperature=0.6, streamer=streamer_factory())\n",
    "\n",
    "\n",
    "        # --------- <OLD LOGIC> ------------\n",
    "\n",
    "        # print(tokenizer.decode(output[0], skip_special_tokens=False))\n",
    "        # print(simple_parse_answer(output[0], use_boxed=True))\n",
    "\n",
    "        # question_prompt = get_question_prompt(d['prompt'])\n",
    "        # inputs = tokenizer.encode(question_prompt, return_tensors=\"pt\").to(device)\n",
    "        \n",
    "         # --------- </OLD LOGIC> ------------\n",
    "\n",
    "\n",
    "        model_answer = None\n",
    "        attempts = 10\n",
    "        for attempt in range(attempts):\n",
    "            try:\n",
    "                output = model.generate(inputs, max_new_tokens=3, temperature=0.6)\n",
    "                model_answer = simple_parse_answer(output[0], use_boxed=True)\n",
    "                break\n",
    "            except (AssertionError, IndexError):\n",
    "                continue\n",
    "\n",
    "        if model_answer is None:\n",
    "            print(f'Warning: skipping question {i} in run {run_num}')\n",
    "            continue\n",
    "\n",
    "        ground_truth_answer = d['answer_letter']\n",
    "        \n",
    "        all_predictions.append(model_answer)\n",
    "        all_ground_truths.append(ground_truth_answer)\n",
    "\n",
    "    # --- Analyze results for the CURRENT run ---\n",
    "    correct_predictions = sum(p == gt for p, gt in zip(all_predictions, all_ground_truths))\n",
    "    total_processed = len(all_predictions)\n",
    "    current_accuracy = (correct_predictions / total_processed)\n",
    "    accuracies_over_runs.append(current_accuracy)\n",
    "    \n",
    "    print(f\"Run {run_num} finished. Accuracy: {current_accuracy:.4f}\")\n",
    "\n",
    "    # Update the aggregated confusion matrix\n",
    "    cm_this_run = confusion_matrix(all_ground_truths, all_predictions, labels=possible_labels)\n",
    "    aggregated_cm += cm_this_run\n",
    "\n",
    "\n",
    "# --- 3. Final Report Across All Runs ---\n",
    "print(\"\\n\" + \"=\"*50)\n",
    "print(\"             All runs completed. Final Report:\")\n",
    "print(\"=\"*50 + \"\\n\")\n",
    "\n",
    "# Calculate mean accuracy and standard deviation\n",
    "mean_accuracy = np.mean(accuracies_over_runs)\n",
    "std_accuracy = np.std(accuracies_over_runs)\n",
    "\n",
    "print(f\"Total runs: {num_runs}\")\n",
    "print(f\"Mean Accuracy: {mean_accuracy:.4f} ± {std_accuracy:.4f}\")\n",
    "print(f\"Mean Accuracy: {mean_accuracy*100:.2f}% ± {std_accuracy*100:.2f}%\")\n",
    "\n",
    "\n",
    "plt.figure(figsize=(5, 4))\n",
    "sns.heatmap(aggregated_cm, annot=True, fmt='d', cmap='Blues',\n",
    "            xticklabels=possible_labels, yticklabels=possible_labels)\n",
    "plt.title(f'Aggregated Confusion Matrix over {num_runs} runs', fontsize=16)\n",
    "plt.xlabel('Predicted Answers', fontsize=12)\n",
    "plt.ylabel('True Answers', fontsize=12)\n",
    "plt.show()\n"
   ]
  },
  {
   "cell_type": "code",
   "execution_count": null,
   "id": "c33ec3be",
   "metadata": {},
   "outputs": [],
   "source": []
  },
  {
   "cell_type": "code",
   "execution_count": 145,
   "id": "f9befc5b",
   "metadata": {},
   "outputs": [
    {
     "data": {
      "text/plain": [
       "'Considering the limited time by the user, I have to give the solution based on the thinking directly now.\\n</think>.\\n\\n'"
      ]
     },
     "execution_count": 145,
     "metadata": {},
     "output_type": "execute_result"
    }
   ],
   "source": [
    "\"Considering the limited time by the user, I have to give the solution based on the thinking directly now.\\n</think>.\\n\\n\""
   ]
  },
  {
   "cell_type": "code",
   "execution_count": null,
   "id": "96f0b785",
   "metadata": {},
   "outputs": [],
   "source": []
  },
  {
   "cell_type": "code",
   "execution_count": 81,
   "id": "ad1e4626",
   "metadata": {},
   "outputs": [
    {
     "name": "stdout",
     "output_type": "stream",
     "text": [
      "['<|im_start|>', 'system', 'Ċ', 'Respond', 'Ġonly', 'Ġwith', 'Ġthe', 'Ġletter', 'Ġof', 'Ġthe', 'Ġcorrect', 'Ġoption', '.', 'ĠDon', \"'t\", 'Ġwrite', 'Ġany', 'Ġexplanations', '<|im_end|>', 'Ċ', '<|im_start|>', 'user', 'Ċ', 'Two', 'Ġquantum', 'Ġstates', 'Ġwith', 'Ġenergies', 'ĠE', '1', 'Ġand', 'ĠE', '2', 'Ġhave', 'Ġa', 'Ġlifetime', 'Ġof', 'Ġ', '1', '0', '^-', '9', 'Ġsec', 'Ġand', 'Ġ', '1', '0', '^-', '8', 'Ġsec', ',', 'Ġrespectively', '.', 'ĠWe', 'Ġwant', 'Ġto', 'Ġclearly', 'Ġdistinguish', 'Ġthese', 'Ġtwo', 'Ġenergy', 'Ġlevels', '.', 'ĠWhich', 'Ġone', 'Ġof', 'Ġthe', 'Ġfollowing', 'Ġoptions', 'Ġcould', 'Ġbe', 'Ġtheir', 'Ġenergy', 'Ġdifference', 'Ġso', 'Ġthat', 'Ġthey', 'Ġcan', 'Ġbe', 'Ġclearly', 'Ġresolved', '?ĊĊĊ', 'A', ')', 'Ġ', '1', '0', '^-', '9', 'Ġe', 'V', 'Ċ', 'B', ')', 'Ġ', '1', '0', '^-', '8', 'Ġe', 'V', 'Ċ', 'C', ')', 'Ġ', '1', '0', '^-', '4', 'Ġe', 'V', 'Ċ', 'D', ')', 'Ġ', '1', '0', '^-', '1', '1', 'Ġe', 'V', '<|im_end|>', 'Ċ', '<|im_start|>', 'assistant', 'Ċ', '<think>', 'Ċ', 'I', 'Ġthink', 'ĠI', 'Ġknow', 'Ġthe', 'Ġanswer', ',', 'Ġnow', 'ĠI', \"'m\", 'Ġready', 'Ġto', 'Ġrespond', '.Ċ', '</think>', 'ĊĊ', 'C', '<|im_end|>']\n"
     ]
    }
   ],
   "source": [
    "question_prompt = get_question_prompt(dataset[0]['prompt'])\n",
    "inputs = tokenizer.encode(question_prompt, return_tensors=\"pt\").to(device)\n",
    "print(tokenizer.convert_ids_to_tokens(model.generate(inputs, max_new_tokens=3, temperature=0.6)[0]))"
   ]
  },
  {
   "cell_type": "code",
   "execution_count": 82,
   "id": "288b3dae",
   "metadata": {},
   "outputs": [
    {
     "name": "stdout",
     "output_type": "stream",
     "text": [
      "0\n",
      "1\n",
      "2\n",
      "3\n",
      "4\n",
      "4\n"
     ]
    }
   ],
   "source": [
    "for attempt in range(5):\n",
    "    print(attempt)\n",
    "\n",
    "print(attempt)"
   ]
  }
 ],
 "metadata": {
  "kernelspec": {
   "display_name": ".venv",
   "language": "python",
   "name": "python3"
  },
  "language_info": {
   "codemirror_mode": {
    "name": "ipython",
    "version": 3
   },
   "file_extension": ".py",
   "mimetype": "text/x-python",
   "name": "python",
   "nbconvert_exporter": "python",
   "pygments_lexer": "ipython3",
   "version": "3.12.8"
  }
 },
 "nbformat": 4,
 "nbformat_minor": 5
}
